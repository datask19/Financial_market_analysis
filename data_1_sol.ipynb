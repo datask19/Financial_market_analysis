{
  "nbformat": 4,
  "nbformat_minor": 0,
  "metadata": {
    "colab": {
      "provenance": [],
      "authorship_tag": "ABX9TyPZLeayQSMXOMyxjfmDhlZ8",
      "include_colab_link": true
    },
    "kernelspec": {
      "name": "python3",
      "display_name": "Python 3"
    },
    "language_info": {
      "name": "python"
    }
  },
  "cells": [
    {
      "cell_type": "markdown",
      "metadata": {
        "id": "view-in-github",
        "colab_type": "text"
      },
      "source": [
        "<a href=\"https://colab.research.google.com/github/datask19/Financial_market_analysis/blob/main/data_1_sol.ipynb\" target=\"_parent\"><img src=\"https://colab.research.google.com/assets/colab-badge.svg\" alt=\"Open In Colab\"/></a>"
      ]
    },
    {
      "cell_type": "markdown",
      "source": [
        " Write a Python program that takes a list of stock prices and finds the maximum price without using loops. Use built-in functions to achieve this.\n",
        "\n",
        "Sample Input:\n",
        "\n",
        "stock_prices = [120, 135, 150, 145, 155]"
      ],
      "metadata": {
        "id": "gfAnLrGAHsDG"
      }
    },
    {
      "cell_type": "code",
      "source": [
        "stock_prices = [120, 135, 150, 145, 155]\n",
        "max(stock_prices)"
      ],
      "metadata": {
        "colab": {
          "base_uri": "https://localhost:8080/"
        },
        "id": "8JVH7Gb9HWlq",
        "outputId": "30fa6e31-2f8e-467a-eff6-4a1e087b895b"
      },
      "execution_count": 2,
      "outputs": [
        {
          "output_type": "execute_result",
          "data": {
            "text/plain": [
              "155"
            ]
          },
          "metadata": {},
          "execution_count": 2
        }
      ]
    },
    {
      "cell_type": "markdown",
      "source": [
        "Create a program that uses a tuple to store financial information (year, revenue, expense). Unpack these values into separate variables and display them.\n",
        "\n",
        "Sample Input:\n",
        "\n",
        "financial_data = (2024, 100000, 75000)"
      ],
      "metadata": {
        "id": "Moac0MTjIZkL"
      }
    },
    {
      "cell_type": "code",
      "source": [
        "financial_data = (2024, 100000, 75000)\n",
        "year = financial_data[0]\n",
        "revenue = financial_data[1]\n",
        "expense = financial_data[2]\n",
        "print(\"year:\",year,\"revenue:\", revenue,\"expense:\", expense)"
      ],
      "metadata": {
        "colab": {
          "base_uri": "https://localhost:8080/"
        },
        "id": "AiHMXLXEIX3j",
        "outputId": "20d5a951-3712-4bd7-cece-1273324ef355"
      },
      "execution_count": 5,
      "outputs": [
        {
          "output_type": "stream",
          "name": "stdout",
          "text": [
            "year: 2024 revenue: 100000 expense: 75000\n"
          ]
        }
      ]
    },
    {
      "cell_type": "markdown",
      "source": [
        "Given a dictionary of stock prices, write a program to update the price of a specific stock and display the updated dictionary. Use dictionary methods.\n",
        "\n",
        "Sample Input:\n",
        "\n",
        "stock_prices = {\"AAPL\": 125, \"MSFT\": 200, \"AMZN\": 310}\n",
        "update_stock = \"MSFT\"\n",
        "new_price = 210"
      ],
      "metadata": {
        "id": "QKAf9J3zKX6O"
      }
    },
    {
      "cell_type": "code",
      "source": [
        "stock_prices = {\"AAPL\": 125, \"MSFT\": 200, \"AMZN\":310}\n",
        "update_stock= \"MSFT\"\n",
        "price= 210\n",
        "stock_prices[update_stock]= price\n",
        "print(\"Updated list:\", stock_prices)\n",
        "\n"
      ],
      "metadata": {
        "colab": {
          "base_uri": "https://localhost:8080/"
        },
        "id": "sFyHtONSJf1k",
        "outputId": "dfee5ab9-b64b-4064-cf38-461f427840bd"
      },
      "execution_count": 6,
      "outputs": [
        {
          "output_type": "stream",
          "name": "stdout",
          "text": [
            "Updated list: {'AAPL': 125, 'MSFT': 210, 'AMZN': 310}\n"
          ]
        }
      ]
    },
    {
      "cell_type": "markdown",
      "source": [
        "Use a Python program to find the unique sectors in which a company has invested. The sectors are stored in a set. Add a new sector to the set and display the updated set.\n",
        "\n",
        "Sample Input:\n",
        "\n",
        "pythonCopy codesectors = {\"Technology\", \"Healthcare\", \"Finance\"}\n",
        "new_sector = \"Energy\""
      ],
      "metadata": {
        "id": "Ah2ARbUbMn1z"
      }
    },
    {
      "cell_type": "code",
      "source": [
        "pythonCopy_codesectors = {\"Technology\", \"Healthcare\", \"Finance\"}\n",
        "new_sector = \"Energy\"\n",
        "pythonCopy_codesectors.add(new_sector)\n",
        "print(pythonCopy_codesectors)"
      ],
      "metadata": {
        "id": "m_EiMmX3L6St",
        "outputId": "9ab1ad60-e733-4637-a821-61eb00a396b2",
        "colab": {
          "base_uri": "https://localhost:8080/"
        }
      },
      "execution_count": 7,
      "outputs": [
        {
          "output_type": "stream",
          "name": "stdout",
          "text": [
            "{'Technology', 'Energy', 'Finance', 'Healthcare'}\n"
          ]
        }
      ]
    },
    {
      "cell_type": "markdown",
      "source": [
        "Write a program that merges two dictionaries representing different parts of an investment portfolio. Use dictionary methods for merging without a loop.\n",
        "\n",
        "Sample Input:\n",
        "\n",
        "portfolio1 = {\"AAPL\": 100, \"MSFT\": 150}\n",
        "portfolio2 = {\"GOOGL\": 200, \"AMZN\": 250}"
      ],
      "metadata": {
        "id": "wb3VTSJCNR-r"
      }
    },
    {
      "cell_type": "code",
      "source": [
        "portfolio1 = {\"AAPL\": 100, \"MSFT\": 150}\n",
        "portfolio2 = {\"GOOGL\": 200, \"AMZN\": 250}\n",
        "portfolio1.update(portfolio2)\n",
        "print(portfolio1)"
      ],
      "metadata": {
        "id": "V77GRaMrNQhb",
        "outputId": "9f52db93-8425-441a-b5a3-5888d7e263cd",
        "colab": {
          "base_uri": "https://localhost:8080/"
        }
      },
      "execution_count": 8,
      "outputs": [
        {
          "output_type": "stream",
          "name": "stdout",
          "text": [
            "{'AAPL': 100, 'MSFT': 150, 'GOOGL': 200, 'AMZN': 250}\n"
          ]
        }
      ]
    },
    {
      "cell_type": "markdown",
      "source": [
        "Rename a key in a dictionary without changing its corresponding value.\n",
        "\n",
        "Sample Input:\n",
        "\n",
        "budget_allocation = {\"Marketing\": 5000, \"R&D\": 10000, \"HR\": 4000}\n",
        "old_key = \"HR\"\n",
        "new_key = \"Human Resources\""
      ],
      "metadata": {
        "id": "Ne9EsOEjN4dm"
      }
    },
    {
      "cell_type": "code",
      "source": [
        "budget_allocation = {\"Marketing\": 5000, \"R&D\": 10000, \"HR\": 4000}\n",
        "old_key = \"HR\"\n",
        "new_key = \"Human Resources\"\n",
        "value = budget_allocation.pop(old_key)\n",
        "\n",
        "# Step 2: Add the new key with the retrieved value\n",
        "budget_allocation[new_key] = value\n",
        "\n",
        "# Display the updated dictionary\n",
        "print(budget_allocation)"
      ],
      "metadata": {
        "id": "Mo3l5qurNpU8",
        "outputId": "1999f8b1-f58b-4d2d-f51d-135aef0eb9c9",
        "colab": {
          "base_uri": "https://localhost:8080/"
        }
      },
      "execution_count": 18,
      "outputs": [
        {
          "output_type": "stream",
          "name": "stdout",
          "text": [
            "{'Marketing': 5000, 'R&D': 10000, 'Human Resources': 4000}\n"
          ]
        }
      ]
    },
    {
      "cell_type": "markdown",
      "source": [
        "Retrieve specific information from a nested dictionary representing a company's departmental budgets.\n",
        "\n",
        "Sample Input:\n",
        "\n",
        "company_budget = {\"Finance\": {\"Salaries\": 50000, \"Equipment\": 10000}, \"Marketing\": {\"Advertising\": 15000, \"Supplies\": 5000}}\n",
        "department = \"Marketing\"\n",
        "item = \"Advertising\""
      ],
      "metadata": {
        "id": "IwJv9FIRP4fF"
      }
    },
    {
      "cell_type": "code",
      "source": [
        "company_budget = {\"Finance\": {\"Salaries\": 50000, \"Equipment\": 10000}, \"Marketing\": {\"Advertising\": 15000, \"Supplies\": 5000}}\n",
        "department = \"Marketing\"\n",
        "item = \"Advertising\""
      ],
      "metadata": {
        "id": "QHqH3g32Otwl"
      },
      "execution_count": 3,
      "outputs": []
    },
    {
      "cell_type": "code",
      "source": [
        "company_budget[department][item]\n",
        "print(f\"Budget for {item} in {department}: 15000\")"
      ],
      "metadata": {
        "id": "fdg1yv2ITe2c",
        "outputId": "1c69537e-4f43-4c40-fa0c-7cd5dba8069a",
        "colab": {
          "base_uri": "https://localhost:8080/"
        }
      },
      "execution_count": 6,
      "outputs": [
        {
          "output_type": "stream",
          "name": "stdout",
          "text": [
            "Budget for Advertising in Marketing: 15000\n"
          ]
        }
      ]
    },
    {
      "cell_type": "markdown",
      "source": [
        "Write a program to access data from a nested dictionary representing a company's employee information. Extract the department and salary of a specific employee.\n",
        "\n",
        "Sample Input:\n",
        "\n",
        "company_info = {\n",
        "    \"emp1\": {\"name\": \"John\", \"department\": \"Finance\", \"salary\": 70000},\n",
        "    \"emp2\": {\"name\": \"Emma\", \"department\": \"Marketing\", \"salary\": 65000},\n",
        "    \"emp3\": {\"name\": \"Alex\", \"department\": \"IT\", \"salary\": 72000}\n",
        "}\n",
        "employee_id = \"emp2\"\n",
        "Expected Output:\n",
        "\n",
        "\"Emma works in Marketing with a salary of 65000\""
      ],
      "metadata": {
        "id": "UKnguD8Ozk9m"
      }
    },
    {
      "cell_type": "code",
      "source": [
        "company_info = {\n",
        "    \"emp1\": {\"name\": \"John\", \"department\": \"Finance\", \"salary\": 70000},\n",
        "    \"emp2\": {\"name\": \"Emma\", \"department\": \"Marketing\", \"salary\": 65000},\n",
        "    \"emp3\": {\"name\": \"Alex\", \"department\": \"IT\", \"salary\": 72000}\n",
        "}\n",
        "\n"
      ],
      "metadata": {
        "id": "2It4EFRwzarl"
      },
      "execution_count": 13,
      "outputs": []
    },
    {
      "cell_type": "code",
      "source": [
        "employee_id = \"emp2\"\n",
        "employee_info  = company_info[employee_id]\n",
        "employee_name = employee_info[\"name\"]\n",
        "employee_salary= employee_info[\"salary\"]\n",
        "employee_depart= employee_info[\"department\"]\n",
        "\n",
        "print(f\"{employee_name}  works in {employee_depart} with a salary of  {employee_salary}\")"
      ],
      "metadata": {
        "id": "ERfTXBwu17yV",
        "outputId": "a689bf25-594b-4af1-a092-8307e2f99d9b",
        "colab": {
          "base_uri": "https://localhost:8080/"
        }
      },
      "execution_count": 15,
      "outputs": [
        {
          "output_type": "stream",
          "name": "stdout",
          "text": [
            "Emma  works in Marketing with a salary of  65000\n"
          ]
        }
      ]
    },
    {
      "cell_type": "markdown",
      "source": [
        " Adding New Data to Nested Dictionary\n",
        "Description: Update a nested dictionary representing a company's project information by adding a new project with its details.\n",
        "\n",
        "Sample Input:\n",
        "\n",
        "company_projects = {\n",
        "    \"Project1\": {\"Manager\": \"John\", \"Budget\": 50000},\n",
        "    \"Project2\": {\"Manager\": \"Emma\", \"Budget\": 60000}\n",
        "}\n",
        "new_project = \"Project3\"\n",
        "new_details = {\"Manager\": \"Alex\", \"Budget\": 55000}"
      ],
      "metadata": {
        "id": "vzdErfVZYmSZ"
      }
    },
    {
      "cell_type": "code",
      "source": [
        "company_projects = {\n",
        "    \"Project1\": {\"Manager\": \"John\", \"Budget\": 50000},\n",
        "    \"Project2\": {\"Manager\": \"Emma\", \"Budget\": 60000}\n",
        "}\n",
        "new_project = \"Project3\"\n",
        "new_details = {\"Manager\": \"Alex\", \"Budget\": 55000}"
      ],
      "metadata": {
        "id": "G2LSgyuB2dJ_"
      },
      "execution_count": 16,
      "outputs": []
    },
    {
      "cell_type": "code",
      "source": [
        "company_projects[new_project] = new_details\n",
        "print(company_projects)"
      ],
      "metadata": {
        "id": "FK0Re83lYufA",
        "outputId": "76a335e1-4791-44f2-ffcd-0504f58655d0",
        "colab": {
          "base_uri": "https://localhost:8080/"
        }
      },
      "execution_count": 17,
      "outputs": [
        {
          "output_type": "stream",
          "name": "stdout",
          "text": [
            "{'Project1': {'Manager': 'John', 'Budget': 50000}, 'Project2': {'Manager': 'Emma', 'Budget': 60000}, 'Project3': {'Manager': 'Alex', 'Budget': 55000}}\n"
          ]
        }
      ]
    },
    {
      "cell_type": "markdown",
      "source": [
        " Create a program to dynamically extend a list of currencies with a new set of currencies provided by the user.\n",
        "\n",
        "Sample Input:\n",
        "\n",
        "current_currencies = [\"USD\", \"EUR\", \"JPY\"]\n",
        "new_currencies = [\"GBP\", \"AUD\"]\n",
        "Expected Output:\n",
        "\n",
        "Extended Currency List: ['USD', 'EUR', 'JPY', 'GBP', 'AUD']"
      ],
      "metadata": {
        "id": "GFJsSLelZgpr"
      }
    },
    {
      "cell_type": "code",
      "source": [
        "current_currencies = [\"USD\", \"EUR\", \"JPY\"]\n",
        "new_currencies = [\"GBP\", \"AUD\"]\n",
        "current_currencies.extend(new_currencies)\n",
        "print(\"Extended Currency List :\", current_currencies)"
      ],
      "metadata": {
        "id": "2-vlmJ4PZfSQ",
        "outputId": "50d2646e-3216-49ff-de11-2a03b540bda3",
        "colab": {
          "base_uri": "https://localhost:8080/"
        }
      },
      "execution_count": 20,
      "outputs": [
        {
          "output_type": "stream",
          "name": "stdout",
          "text": [
            "Extended Currency List : ['USD', 'EUR', 'JPY', 'GBP', 'AUD']\n"
          ]
        }
      ]
    },
    {
      "cell_type": "markdown",
      "source": [
        "Reversing a List of Transactions\n",
        "Description: Reverse the order of elements in a list of financial transactions.\n",
        "\n",
        "Sample Input:\n",
        "\n",
        "transactions = [200, -150, 50, -40]"
      ],
      "metadata": {
        "id": "0HuAvxxuhW1p"
      }
    },
    {
      "cell_type": "code",
      "source": [
        "transactions = [200, -150, 50, -40]\n",
        "transactions.reverse()\n",
        "print(transactions)"
      ],
      "metadata": {
        "id": "8lEIWuVzg_Qw",
        "outputId": "53802597-5e54-49c3-a7e6-2b8f2e5b1479",
        "colab": {
          "base_uri": "https://localhost:8080/"
        }
      },
      "execution_count": 23,
      "outputs": [
        {
          "output_type": "stream",
          "name": "stdout",
          "text": [
            "[-40, 50, -150, 200]\n"
          ]
        }
      ]
    },
    {
      "cell_type": "markdown",
      "source": [
        "Create a dictionary from two lists: one representing stock tickers and the other their respective prices.\n",
        "\n",
        "Sample Input:\n",
        "\n",
        "tickers = [\"AAPL\", \"MSFT\", \"GOOG\"]\n",
        "prices = [125, 200, 150]"
      ],
      "metadata": {
        "id": "C5kvaKEHiLGO"
      }
    },
    {
      "cell_type": "code",
      "source": [
        "tickers = [\"AAPL\", \"MSFT\", \"GOOG\"]\n",
        "prices = [125, 200, 150]\n",
        "stock_prices= dict(zip(tickers, prices))\n",
        "print(stock_prices)"
      ],
      "metadata": {
        "colab": {
          "base_uri": "https://localhost:8080/"
        },
        "id": "qRCtIk03h5nx",
        "outputId": "4d14736c-ffd1-4b98-e50d-d85c43f520fe"
      },
      "execution_count": 24,
      "outputs": [
        {
          "output_type": "stream",
          "name": "stdout",
          "text": [
            "{'AAPL': 125, 'MSFT': 200, 'GOOG': 150}\n"
          ]
        }
      ]
    },
    {
      "cell_type": "code",
      "source": [],
      "metadata": {
        "id": "H8EVy2B3i6Kb"
      },
      "execution_count": null,
      "outputs": []
    }
  ]
}